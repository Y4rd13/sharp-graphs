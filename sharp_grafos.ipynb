{
  "nbformat": 4,
  "nbformat_minor": 0,
  "metadata": {
    "colab": {
      "name": "sharp_grafos.ipynb",
      "provenance": []
    },
    "kernelspec": {
      "name": "python3",
      "display_name": "Python 3"
    }
  },
  "cells": [
    {
      "cell_type": "code",
      "metadata": {
        "colab": {
          "base_uri": "https://localhost:8080/"
        },
        "id": "k-wCCiKFMIUL",
        "outputId": "aab55dc2-bb21-454a-f72e-b2459ef25a33"
      },
      "source": [
        "!pip install networkx"
      ],
      "execution_count": null,
      "outputs": [
        {
          "output_type": "stream",
          "text": [
            "Requirement already satisfied: networkx in /usr/local/lib/python3.6/dist-packages (2.5)\n",
            "Requirement already satisfied: decorator>=4.3.0 in /usr/local/lib/python3.6/dist-packages (from networkx) (4.4.2)\n"
          ],
          "name": "stdout"
        }
      ]
    },
    {
      "cell_type": "code",
      "metadata": {
        "id": "WhzBMHoFHT1z"
      },
      "source": [
        "import pandas as pd\n",
        "import numpy as np\n",
        "import matplotlib.pyplot as plt\n",
        "from collections import Counter\n",
        "from random import uniform"
      ],
      "execution_count": null,
      "outputs": []
    },
    {
      "cell_type": "code",
      "metadata": {
        "id": "aH-4HfN1MPJN"
      },
      "source": [
        "import networkx as nx"
      ],
      "execution_count": null,
      "outputs": []
    },
    {
      "cell_type": "code",
      "metadata": {
        "id": "zfOKQf7-A0Rn"
      },
      "source": [
        "def load_dataset():\n",
        "    !mkdir -p dataset\n",
        "    !wget -nc https://raw.githubusercontent.com/Y4rd13/sharp-graphs/main/Grupo1-393371.csv -P dataset\n",
        "    df = pd.read_csv('/content/dataset/Grupo1-393371.csv', encoding='utf-8', usecols=['node(number)', 'seconds(number)'])\n",
        "    \n",
        "    return df"
      ],
      "execution_count": null,
      "outputs": []
    },
    {
      "cell_type": "code",
      "metadata": {
        "colab": {
          "base_uri": "https://localhost:8080/"
        },
        "id": "itH-eqLcHQqX",
        "outputId": "79c7ec07-05bf-4940-e8f0-5d0697a8925b"
      },
      "source": [
        "df = load_dataset()\n",
        "node = df['node(number)']\n",
        "seconds = df['seconds(number)']"
      ],
      "execution_count": null,
      "outputs": [
        {
          "output_type": "stream",
          "text": [
            "File ‘dataset/Grupo1-393371.csv’ already there; not retrieving.\n",
            "\n"
          ],
          "name": "stdout"
        }
      ]
    },
    {
      "cell_type": "code",
      "metadata": {
        "colab": {
          "base_uri": "https://localhost:8080/",
          "height": 266
        },
        "id": "8zDZHsKDH9Za",
        "outputId": "aa4f9cb7-101c-4828-8158-906804476784"
      },
      "source": [
        "df.head(7)"
      ],
      "execution_count": 17,
      "outputs": [
        {
          "output_type": "execute_result",
          "data": {
            "text/html": [
              "<div>\n",
              "<style scoped>\n",
              "    .dataframe tbody tr th:only-of-type {\n",
              "        vertical-align: middle;\n",
              "    }\n",
              "\n",
              "    .dataframe tbody tr th {\n",
              "        vertical-align: top;\n",
              "    }\n",
              "\n",
              "    .dataframe thead th {\n",
              "        text-align: right;\n",
              "    }\n",
              "</style>\n",
              "<table border=\"1\" class=\"dataframe\">\n",
              "  <thead>\n",
              "    <tr style=\"text-align: right;\">\n",
              "      <th></th>\n",
              "      <th>node(number)</th>\n",
              "      <th>seconds(number)</th>\n",
              "    </tr>\n",
              "  </thead>\n",
              "  <tbody>\n",
              "    <tr>\n",
              "      <th>0</th>\n",
              "      <td>4</td>\n",
              "      <td>0.846</td>\n",
              "    </tr>\n",
              "    <tr>\n",
              "      <th>1</th>\n",
              "      <td>0</td>\n",
              "      <td>0.884</td>\n",
              "    </tr>\n",
              "    <tr>\n",
              "      <th>2</th>\n",
              "      <td>3</td>\n",
              "      <td>1.197</td>\n",
              "    </tr>\n",
              "    <tr>\n",
              "      <th>3</th>\n",
              "      <td>0</td>\n",
              "      <td>1.261</td>\n",
              "    </tr>\n",
              "    <tr>\n",
              "      <th>4</th>\n",
              "      <td>1</td>\n",
              "      <td>0.515</td>\n",
              "    </tr>\n",
              "    <tr>\n",
              "      <th>5</th>\n",
              "      <td>4</td>\n",
              "      <td>1.567</td>\n",
              "    </tr>\n",
              "    <tr>\n",
              "      <th>6</th>\n",
              "      <td>3</td>\n",
              "      <td>1.577</td>\n",
              "    </tr>\n",
              "  </tbody>\n",
              "</table>\n",
              "</div>"
            ],
            "text/plain": [
              "   node(number)  seconds(number)\n",
              "0             4            0.846\n",
              "1             0            0.884\n",
              "2             3            1.197\n",
              "3             0            1.261\n",
              "4             1            0.515\n",
              "5             4            1.567\n",
              "6             3            1.577"
            ]
          },
          "metadata": {
            "tags": []
          },
          "execution_count": 17
        }
      ]
    },
    {
      "cell_type": "code",
      "metadata": {
        "colab": {
          "base_uri": "https://localhost:8080/"
        },
        "id": "i1ZGeUWUJH1u",
        "outputId": "1437e01b-4a90-47c6-e0a7-173725397c7e"
      },
      "source": [
        "dict(Counter(node))\n",
        "\n",
        "\n",
        "[\n",
        " 0, 0, 0, 0, 0, # 0\n",
        " 0, 0, 0, 0, 0, # 1\n",
        " 0, 0, 0, 0, 0, # 2\n",
        " 0, 0, 0, 0, 0, # 3\n",
        " 1, 0, 0, 0, 0, # 4\n",
        "]"
      ],
      "execution_count": null,
      "outputs": [
        {
          "output_type": "execute_result",
          "data": {
            "text/plain": [
              "{0: 2839, 1: 1367, 2: 871, 3: 816, 4: 1076}"
            ]
          },
          "metadata": {
            "tags": []
          },
          "execution_count": 7
        }
      ]
    },
    {
      "cell_type": "code",
      "metadata": {
        "id": "hxskObZjc-1d"
      },
      "source": [
        "arr = np.zeros(shape=(5, 5), dtype=int)"
      ],
      "execution_count": 15,
      "outputs": []
    },
    {
      "cell_type": "code",
      "metadata": {
        "colab": {
          "base_uri": "https://localhost:8080/"
        },
        "id": "9VUGyvIDdH0r",
        "outputId": "f07fd78f-18b9-49f0-fe43-592394ffd5b4"
      },
      "source": [
        "arr[i][j]"
      ],
      "execution_count": 16,
      "outputs": [
        {
          "output_type": "execute_result",
          "data": {
            "text/plain": [
              "array([[0, 0, 0, 0, 0],\n",
              "       [0, 0, 0, 0, 0],\n",
              "       [0, 0, 0, 0, 0],\n",
              "       [0, 0, 0, 0, 0],\n",
              "       [0, 0, 0, 0, 0]])"
            ]
          },
          "metadata": {
            "tags": []
          },
          "execution_count": 16
        }
      ]
    },
    {
      "cell_type": "code",
      "metadata": {
        "id": "YFNR2Xo0MM1X"
      },
      "source": [
        "def graph(run_name, d):\n",
        "    G = nx.Graph()\n",
        "    w1, w2, w3, w4, w5 = d[0], d[1], d[2], d[3], d[4]\n",
        "\n",
        "    G.add_node(0, pos=(4, 2))\n",
        "    G.add_node(1, pos=(3, 4))\n",
        "    G.add_node(2, pos=(2, 0))\n",
        "    G.add_node(3, pos=(1, 4))\n",
        "    G.add_node(4, pos=(0, 2))\n",
        "\n",
        "    G.add_edge(1, 2, weight=w1)\n",
        "    G.add_edge(2, 3, weight=w2)\n",
        "    G.add_edge(3, 4, weight=w3)\n",
        "    G.add_edge(4, 5, weight=w4)\n",
        "    G.add_edge(5, 1, weight=w5)\n",
        "\n",
        "    pos = nx.get_node_attributes(G,'pos')\n",
        "    nx.draw(G, pos)\n",
        "\n",
        "    labels = nx.get_edge_attributes(G,'weight')\n",
        "    nx.draw_networkx_edge_labels(G, \n",
        "                                 pos,\n",
        "                                 edge_labels=labels)\n",
        "    \n",
        "    plt.savefig(run_name)    "
      ],
      "execution_count": null,
      "outputs": []
    },
    {
      "cell_type": "code",
      "metadata": {
        "colab": {
          "base_uri": "https://localhost:8080/"
        },
        "id": "89wRMAcbPaqH",
        "outputId": "94b1da6b-ea5c-4903-84d0-32728085c01a"
      },
      "source": [
        "!mkdir sessions"
      ],
      "execution_count": null,
      "outputs": [
        {
          "output_type": "stream",
          "text": [
            "mkdir: cannot create directory ‘sessions’: File exists\n"
          ],
          "name": "stdout"
        }
      ]
    },
    {
      "cell_type": "code",
      "metadata": {
        "id": "AQf2LbZ3eMHz"
      },
      "source": [
        "session_num = 0\n",
        "arr = np.zeros(shape=(5, 5), dtype=int)"
      ],
      "execution_count": null,
      "outputs": []
    },
    {
      "cell_type": "code",
      "metadata": {
        "id": "GdBAz6edNsih"
      },
      "source": [
        "for i in seconds:\n",
        "    d = dict(Counter(node))\n",
        "    \n",
        "    if i >= 60:\n",
        "        run_name = './sessions/run-%d.png' % session_num\n",
        "        print('--- Starting trial: %s' % run_name)\n",
        "        print('%s' % i)\n",
        "\n",
        "        graph(run_name, d)\n",
        "\n",
        "        session_num += 1"
      ],
      "execution_count": null,
      "outputs": []
    },
    {
      "cell_type": "code",
      "metadata": {
        "id": "xDC-5gGXQEDx"
      },
      "source": [
        "#!rm -rf sessions"
      ],
      "execution_count": null,
      "outputs": []
    }
  ]
}