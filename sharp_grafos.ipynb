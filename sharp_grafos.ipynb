{
  "nbformat": 4,
  "nbformat_minor": 0,
  "metadata": {
    "colab": {
      "name": "sharp_grafos.ipynb",
      "provenance": []
    },
    "kernelspec": {
      "name": "python3",
      "display_name": "Python 3"
    }
  },
  "cells": [
    {
      "cell_type": "code",
      "metadata": {
        "colab": {
          "base_uri": "https://localhost:8080/"
        },
        "id": "k-wCCiKFMIUL",
        "outputId": "83930039-b956-4c5b-9258-0589446745be"
      },
      "source": [
        "!pip install networkx"
      ],
      "execution_count": 1,
      "outputs": [
        {
          "output_type": "stream",
          "text": [
            "Requirement already satisfied: networkx in /usr/local/lib/python3.6/dist-packages (2.5)\n",
            "Requirement already satisfied: decorator>=4.3.0 in /usr/local/lib/python3.6/dist-packages (from networkx) (4.4.2)\n"
          ],
          "name": "stdout"
        }
      ]
    },
    {
      "cell_type": "code",
      "metadata": {
        "id": "WhzBMHoFHT1z"
      },
      "source": [
        "import pandas as pd\n",
        "import numpy as np\n",
        "import matplotlib.pyplot as plt\n",
        "from collections import Counter\n",
        "from random import uniform"
      ],
      "execution_count": 2,
      "outputs": []
    },
    {
      "cell_type": "code",
      "metadata": {
        "id": "aH-4HfN1MPJN"
      },
      "source": [
        "import networkx as nx"
      ],
      "execution_count": 3,
      "outputs": []
    },
    {
      "cell_type": "code",
      "metadata": {
        "id": "zfOKQf7-A0Rn"
      },
      "source": [
        "def load_dataset():\n",
        "    !mkdir -p dataset\n",
        "    !wget -nc https://raw.githubusercontent.com/Y4rd13/sharp-graphs/main/Grupo1-393371.csv -P dataset\n",
        "    df = pd.read_csv('/content/dataset/Grupo1-393371.csv', encoding='utf-8', usecols=['node(number)', 'seconds(number)'])\n",
        "    \n",
        "    return df"
      ],
      "execution_count": 4,
      "outputs": []
    },
    {
      "cell_type": "code",
      "metadata": {
        "colab": {
          "base_uri": "https://localhost:8080/"
        },
        "id": "itH-eqLcHQqX",
        "outputId": "d3e89685-6599-407e-a9c6-bccf2edfb9eb"
      },
      "source": [
        "df = load_dataset()\n",
        "node = df['node(number)']\n",
        "seconds = df['seconds(number)']"
      ],
      "execution_count": 5,
      "outputs": [
        {
          "output_type": "stream",
          "text": [
            "File ‘dataset/Grupo1-393371.csv’ already there; not retrieving.\n",
            "\n"
          ],
          "name": "stdout"
        }
      ]
    },
    {
      "cell_type": "code",
      "metadata": {
        "colab": {
          "base_uri": "https://localhost:8080/",
          "height": 266
        },
        "id": "8zDZHsKDH9Za",
        "outputId": "95959baa-fd1a-4655-9cf0-1b27950f6895"
      },
      "source": [
        "df.head(7)"
      ],
      "execution_count": 6,
      "outputs": [
        {
          "output_type": "execute_result",
          "data": {
            "text/html": [
              "<div>\n",
              "<style scoped>\n",
              "    .dataframe tbody tr th:only-of-type {\n",
              "        vertical-align: middle;\n",
              "    }\n",
              "\n",
              "    .dataframe tbody tr th {\n",
              "        vertical-align: top;\n",
              "    }\n",
              "\n",
              "    .dataframe thead th {\n",
              "        text-align: right;\n",
              "    }\n",
              "</style>\n",
              "<table border=\"1\" class=\"dataframe\">\n",
              "  <thead>\n",
              "    <tr style=\"text-align: right;\">\n",
              "      <th></th>\n",
              "      <th>node(number)</th>\n",
              "      <th>seconds(number)</th>\n",
              "    </tr>\n",
              "  </thead>\n",
              "  <tbody>\n",
              "    <tr>\n",
              "      <th>0</th>\n",
              "      <td>4</td>\n",
              "      <td>0.846</td>\n",
              "    </tr>\n",
              "    <tr>\n",
              "      <th>1</th>\n",
              "      <td>0</td>\n",
              "      <td>0.884</td>\n",
              "    </tr>\n",
              "    <tr>\n",
              "      <th>2</th>\n",
              "      <td>3</td>\n",
              "      <td>1.197</td>\n",
              "    </tr>\n",
              "    <tr>\n",
              "      <th>3</th>\n",
              "      <td>0</td>\n",
              "      <td>1.261</td>\n",
              "    </tr>\n",
              "    <tr>\n",
              "      <th>4</th>\n",
              "      <td>1</td>\n",
              "      <td>0.515</td>\n",
              "    </tr>\n",
              "    <tr>\n",
              "      <th>5</th>\n",
              "      <td>4</td>\n",
              "      <td>1.567</td>\n",
              "    </tr>\n",
              "    <tr>\n",
              "      <th>6</th>\n",
              "      <td>3</td>\n",
              "      <td>1.577</td>\n",
              "    </tr>\n",
              "  </tbody>\n",
              "</table>\n",
              "</div>"
            ],
            "text/plain": [
              "   node(number)  seconds(number)\n",
              "0             4            0.846\n",
              "1             0            0.884\n",
              "2             3            1.197\n",
              "3             0            1.261\n",
              "4             1            0.515\n",
              "5             4            1.567\n",
              "6             3            1.577"
            ]
          },
          "metadata": {
            "tags": []
          },
          "execution_count": 6
        }
      ]
    },
    {
      "cell_type": "code",
      "metadata": {
        "colab": {
          "base_uri": "https://localhost:8080/"
        },
        "id": "i1ZGeUWUJH1u",
        "outputId": "dc8f82f1-f4b6-4339-9f70-cf5cf4237833"
      },
      "source": [
        "dict(Counter(node))"
      ],
      "execution_count": 7,
      "outputs": [
        {
          "output_type": "execute_result",
          "data": {
            "text/plain": [
              "{0: 2839, 1: 1367, 2: 871, 3: 816, 4: 1076}"
            ]
          },
          "metadata": {
            "tags": []
          },
          "execution_count": 7
        }
      ]
    },
    {
      "cell_type": "code",
      "metadata": {
        "id": "hxskObZjc-1d"
      },
      "source": [
        "arr = np.zeros(shape=(5, 5), dtype=int)"
      ],
      "execution_count": 8,
      "outputs": []
    },
    {
      "cell_type": "code",
      "metadata": {
        "id": "YFNR2Xo0MM1X"
      },
      "source": [
        "def graph(run_name, arr):\n",
        "    G = nx.Graph()\n",
        "\n",
        "    G.add_node(0, pos=(4, 2))\n",
        "    G.add_node(1, pos=(3, 4))\n",
        "    G.add_node(2, pos=(2, 0))\n",
        "    G.add_node(3, pos=(1, 4))\n",
        "    G.add_node(4, pos=(0, 2))\n",
        "\n",
        "    for i in range(5):\n",
        "        for j in range(5):\n",
        "            G.add_edge(i, j, weight=arr[i][j])\n",
        "\n",
        "    pos = nx.get_node_attributes(G,'pos')\n",
        "    nx.draw(G, pos)\n",
        "\n",
        "    labels = nx.get_edge_attributes(G,'weight')\n",
        "    nx.draw_networkx_edge_labels(G, \n",
        "                                 pos,\n",
        "                                 edge_labels=labels)\n",
        "    \n",
        "    plt.savefig(run_name)    "
      ],
      "execution_count": 9,
      "outputs": []
    },
    {
      "cell_type": "code",
      "metadata": {
        "id": "89wRMAcbPaqH"
      },
      "source": [
        "!mkdir sessions"
      ],
      "execution_count": 10,
      "outputs": []
    },
    {
      "cell_type": "code",
      "metadata": {
        "id": "AQf2LbZ3eMHz"
      },
      "source": [
        "session_num = 0\n",
        "start = 60\n",
        "arr = np.zeros(shape=(5, 5), dtype=int)"
      ],
      "execution_count": 11,
      "outputs": []
    },
    {
      "cell_type": "code",
      "metadata": {
        "id": "GdBAz6edNsih"
      },
      "source": [
        "for i in seconds:\n",
        "\n",
        "    if i >= start:\n",
        "        for j in range(len(node)): \n",
        "            if j != 0:\n",
        "                arr[node[j-1]][node[j]] += 1\n",
        "\n",
        "        run_name = './sessions/run-%d.png' % session_num\n",
        "        print('--- Starting trial: %s' % run_name)\n",
        "        print('%s' % i)\n",
        "        print(arr)\n",
        "\n",
        "        graph(run_name, arr)\n",
        "\n",
        "        session_num += 1\n",
        "        start += 60"
      ],
      "execution_count": null,
      "outputs": []
    },
    {
      "cell_type": "code",
      "metadata": {
        "id": "xDC-5gGXQEDx"
      },
      "source": [
        "!rm -rf sessions"
      ],
      "execution_count": null,
      "outputs": []
    }
  ]
}